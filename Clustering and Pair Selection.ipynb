{
 "cells": [
  {
   "cell_type": "code",
   "execution_count": 1,
   "metadata": {
    "colab": {
     "base_uri": "https://localhost:8080/"
    },
    "id": "2zbksX1Kdx7G",
    "outputId": "810678fd-e43b-46d3-de03-1840a550c8aa"
   },
   "outputs": [
    {
     "name": "stdout",
     "output_type": "stream",
     "text": [
      "Drive already mounted at /content/drive; to attempt to forcibly remount, call drive.mount(\"/content/drive\", force_remount=True).\n"
     ]
    }
   ],
   "source": [
    "from google.colab import drive\n",
    "drive.mount('/content/drive')"
   ]
  },
  {
   "cell_type": "code",
   "execution_count": 2,
   "metadata": {
    "id": "FJXYfwmve4cS"
   },
   "outputs": [],
   "source": [
    "import numpy as np\n",
    "import pandas as pd\n",
    "import matplotlib.pyplot as plt\n",
    "import matplotlib.cm as cm\n",
    "plt.style.use('dark_background')\n",
    "\n",
    "from sklearn.manifold import TSNE\n",
    "from scipy import stats\n",
    "import pickle"
   ]
  },
  {
   "cell_type": "markdown",
   "metadata": {},
   "source": [
    "Make sure to have the classes in the same directory as the notebook for it to work."
   ]
  },
  {
   "cell_type": "code",
   "execution_count": 3,
   "metadata": {
    "id": "qOYYDQC4lyQ8"
   },
   "outputs": [],
   "source": [
    "import class_DataProcessor, class_SeriesAnalyser, class_Trader\n",
    "\n",
    "series_analyser = class_SeriesAnalyser.SeriesAnalyser()\n",
    "trader = class_Trader.Trader()\n",
    "data_processor = class_DataProcessor.DataProcessor()"
   ]
  },
  {
   "cell_type": "markdown",
   "metadata": {
    "id": "OHBDGLKZeiIk"
   },
   "source": [
    "# Data Import"
   ]
  },
  {
   "cell_type": "code",
   "execution_count": 21,
   "metadata": {
    "id": "qMMyp4IIeXun"
   },
   "outputs": [],
   "source": [
    "df2 = pd.read_excel('./data/120_ETFs_2018_to_2022.xlsx')\n",
    "df2.Date = pd.to_datetime(df2.Date)\n",
    "df2.set_index('Date', inplace=True)\n",
    "df2.sort_index(inplace=True)\n",
    "for col in df2:\n",
    "    df2[col] = pd.to_numeric(df2[col], errors='coerce')"
   ]
  },
  {
   "cell_type": "code",
   "execution_count": null,
   "metadata": {
    "id": "q8pD_L9JKiRI"
   },
   "outputs": [],
   "source": [
    "tickers = df2.columns.tolist()\n",
    "\n",
    "with open('./data/tickers.pickle', 'wb') as f:\n",
    "    pickle.dump(tickers, f)"
   ]
  },
  {
   "cell_type": "markdown",
   "metadata": {
    "id": "VX3W4DB1jj7u"
   },
   "source": [
    "# Preprocessing"
   ]
  },
  {
   "cell_type": "code",
   "execution_count": 23,
   "metadata": {
    "id": "Dg87MNQ0k3xG"
   },
   "outputs": [],
   "source": [
    "# Fill upto 5 consecutive NaNs through linear interpolation\n",
    "df2 = df2.interpolate(method='linear', limit=5)\n",
    "\n",
    "# If NaNs persist beyond that, drop those tickers\n",
    "df2 = data_processor.remove_tickers_with_nan(df2, 0)"
   ]
  },
  {
   "cell_type": "code",
   "execution_count": 24,
   "metadata": {
    "colab": {
     "base_uri": "https://localhost:8080/"
    },
    "id": "Qyxa7LOkjlFM",
    "outputId": "068999ec-e1dd-4c10-acda-c2db123bd905"
   },
   "outputs": [
    {
     "name": "stdout",
     "output_type": "stream",
     "text": [
      "Total of 71 tickers\n",
      "Total of 71 tickers after removing tickers with Nan values\n",
      "\n",
      "The training set contains 78240 records, ranging from 2018-01-02 09:30:00 to 2021-12-30 15:55:00.\n",
      "The test set contains 19465 records, ranging from 2022-01-03 09:30:00 to 2022-12-29 15:55:00.\n"
     ]
    }
   ],
   "source": [
    "# split data in training and test\n",
    "form_period_start = '01-02-2018'\n",
    "form_period_end = '31-12-2021'\n",
    "trade_period_start = '01-03-2022'\n",
    "trade_period_end = '30-12-2022'\n",
    "df_prices_train, df_prices_test = data_processor.split_data(df2,\n",
    "                                                            (form_period_start,\n",
    "                                                             form_period_end),\n",
    "                                                            (trade_period_start,\n",
    "                                                             trade_period_end),\n",
    "                                                            remove_nan=True)\n",
    "\n",
    "print(f\"\\nThe training set contains {df_prices_train.shape[0]} records, ranging from {df_prices_train.index[0]} to {df_prices_train.index[-1]}.\")\n",
    "print(f\"The test set contains {df_prices_test.shape[0]} records, ranging from {df_prices_test.index[0]} to {df_prices_test.index[-1]}.\")"
   ]
  },
  {
   "cell_type": "markdown",
   "metadata": {
    "id": "2VSJQ6dumWCY"
   },
   "source": [
    "# Clustering with Unsupervised Learning"
   ]
  },
  {
   "cell_type": "markdown",
   "metadata": {
    "id": "C-FLUc8Nl8bm"
   },
   "source": [
    "## 1. Calculate returns of training set"
   ]
  },
  {
   "cell_type": "code",
   "execution_count": 25,
   "metadata": {
    "colab": {
     "base_uri": "https://localhost:8080/",
     "height": 866
    },
    "id": "72WaQXhighRJ",
    "outputId": "2320c162-ae98-4b51-90cc-c11368cc7678"
   },
   "outputs": [
    {
     "data": {
      "text/html": [
       "\n",
       "  <div id=\"df-53d8f848-d0cd-42a8-a0b8-1772bb1e639d\">\n",
       "    <div class=\"colab-df-container\">\n",
       "      <div>\n",
       "<style scoped>\n",
       "    .dataframe tbody tr th:only-of-type {\n",
       "        vertical-align: middle;\n",
       "    }\n",
       "\n",
       "    .dataframe tbody tr th {\n",
       "        vertical-align: top;\n",
       "    }\n",
       "\n",
       "    .dataframe thead th {\n",
       "        text-align: right;\n",
       "    }\n",
       "</style>\n",
       "<table border=\"1\" class=\"dataframe\">\n",
       "  <thead>\n",
       "    <tr style=\"text-align: right;\">\n",
       "      <th></th>\n",
       "      <th>TQQQ</th>\n",
       "      <th>SQQQ</th>\n",
       "      <th>SOXL</th>\n",
       "      <th>SPY</th>\n",
       "      <th>LABU</th>\n",
       "      <th>QQQ</th>\n",
       "      <th>FXI</th>\n",
       "      <th>EEM</th>\n",
       "      <th>SH</th>\n",
       "      <th>SOXS</th>\n",
       "      <th>...</th>\n",
       "      <th>ACWX</th>\n",
       "      <th>SCHE</th>\n",
       "      <th>SPYG</th>\n",
       "      <th>EWU</th>\n",
       "      <th>DGRO</th>\n",
       "      <th>IXUS</th>\n",
       "      <th>VYM</th>\n",
       "      <th>SCHX</th>\n",
       "      <th>EWW</th>\n",
       "      <th>SPLV</th>\n",
       "    </tr>\n",
       "    <tr>\n",
       "      <th>Date</th>\n",
       "      <th></th>\n",
       "      <th></th>\n",
       "      <th></th>\n",
       "      <th></th>\n",
       "      <th></th>\n",
       "      <th></th>\n",
       "      <th></th>\n",
       "      <th></th>\n",
       "      <th></th>\n",
       "      <th></th>\n",
       "      <th></th>\n",
       "      <th></th>\n",
       "      <th></th>\n",
       "      <th></th>\n",
       "      <th></th>\n",
       "      <th></th>\n",
       "      <th></th>\n",
       "      <th></th>\n",
       "      <th></th>\n",
       "      <th></th>\n",
       "      <th></th>\n",
       "    </tr>\n",
       "  </thead>\n",
       "  <tbody>\n",
       "    <tr>\n",
       "      <th>2018-01-02 09:35:00</th>\n",
       "      <td>0.008349</td>\n",
       "      <td>-0.009139</td>\n",
       "      <td>0.012075</td>\n",
       "      <td>0.001209</td>\n",
       "      <td>0.015483</td>\n",
       "      <td>0.002934</td>\n",
       "      <td>0.001158</td>\n",
       "      <td>0.001779</td>\n",
       "      <td>-0.001161</td>\n",
       "      <td>-0.008605</td>\n",
       "      <td>...</td>\n",
       "      <td>-0.000197</td>\n",
       "      <td>0.000956</td>\n",
       "      <td>0.001207</td>\n",
       "      <td>-0.000280</td>\n",
       "      <td>0.000026</td>\n",
       "      <td>0.001215</td>\n",
       "      <td>0.000378</td>\n",
       "      <td>0.001101</td>\n",
       "      <td>-0.003061</td>\n",
       "      <td>-0.000627</td>\n",
       "    </tr>\n",
       "    <tr>\n",
       "      <th>2018-01-02 09:40:00</th>\n",
       "      <td>0.005594</td>\n",
       "      <td>-0.005478</td>\n",
       "      <td>0.007141</td>\n",
       "      <td>0.000099</td>\n",
       "      <td>0.014310</td>\n",
       "      <td>0.001732</td>\n",
       "      <td>-0.000314</td>\n",
       "      <td>-0.000417</td>\n",
       "      <td>0.000000</td>\n",
       "      <td>-0.011779</td>\n",
       "      <td>...</td>\n",
       "      <td>0.000794</td>\n",
       "      <td>-0.000332</td>\n",
       "      <td>0.001512</td>\n",
       "      <td>-0.000280</td>\n",
       "      <td>0.000032</td>\n",
       "      <td>0.000362</td>\n",
       "      <td>-0.000378</td>\n",
       "      <td>0.000287</td>\n",
       "      <td>-0.002466</td>\n",
       "      <td>-0.000660</td>\n",
       "    </tr>\n",
       "    <tr>\n",
       "      <th>2018-01-02 09:45:00</th>\n",
       "      <td>0.003726</td>\n",
       "      <td>-0.004047</td>\n",
       "      <td>0.004821</td>\n",
       "      <td>-0.000522</td>\n",
       "      <td>-0.003498</td>\n",
       "      <td>0.001402</td>\n",
       "      <td>-0.000213</td>\n",
       "      <td>-0.000105</td>\n",
       "      <td>0.000497</td>\n",
       "      <td>-0.003971</td>\n",
       "      <td>...</td>\n",
       "      <td>-0.000197</td>\n",
       "      <td>-0.000020</td>\n",
       "      <td>0.000029</td>\n",
       "      <td>-0.000694</td>\n",
       "      <td>-0.001434</td>\n",
       "      <td>-0.000631</td>\n",
       "      <td>-0.000864</td>\n",
       "      <td>-0.000471</td>\n",
       "      <td>0.003128</td>\n",
       "      <td>-0.001858</td>\n",
       "    </tr>\n",
       "    <tr>\n",
       "      <th>2018-01-02 09:50:00</th>\n",
       "      <td>0.001263</td>\n",
       "      <td>-0.001195</td>\n",
       "      <td>0.001506</td>\n",
       "      <td>0.000168</td>\n",
       "      <td>-0.002154</td>\n",
       "      <td>0.000445</td>\n",
       "      <td>0.000000</td>\n",
       "      <td>-0.000105</td>\n",
       "      <td>-0.000332</td>\n",
       "      <td>-0.001625</td>\n",
       "      <td>...</td>\n",
       "      <td>0.000002</td>\n",
       "      <td>-0.000178</td>\n",
       "      <td>0.000271</td>\n",
       "      <td>0.000000</td>\n",
       "      <td>0.000097</td>\n",
       "      <td>0.000159</td>\n",
       "      <td>-0.000011</td>\n",
       "      <td>-0.000567</td>\n",
       "      <td>-0.001208</td>\n",
       "      <td>-0.001053</td>\n",
       "    </tr>\n",
       "    <tr>\n",
       "      <th>2018-01-02 09:55:00</th>\n",
       "      <td>0.004173</td>\n",
       "      <td>-0.005025</td>\n",
       "      <td>0.003104</td>\n",
       "      <td>0.000953</td>\n",
       "      <td>0.000539</td>\n",
       "      <td>0.001335</td>\n",
       "      <td>0.000000</td>\n",
       "      <td>-0.000210</td>\n",
       "      <td>-0.000998</td>\n",
       "      <td>-0.003211</td>\n",
       "      <td>...</td>\n",
       "      <td>-0.000002</td>\n",
       "      <td>-0.000085</td>\n",
       "      <td>-0.000029</td>\n",
       "      <td>0.000138</td>\n",
       "      <td>0.001112</td>\n",
       "      <td>0.000366</td>\n",
       "      <td>0.000993</td>\n",
       "      <td>0.001367</td>\n",
       "      <td>0.000101</td>\n",
       "      <td>0.001033</td>\n",
       "    </tr>\n",
       "    <tr>\n",
       "      <th>...</th>\n",
       "      <td>...</td>\n",
       "      <td>...</td>\n",
       "      <td>...</td>\n",
       "      <td>...</td>\n",
       "      <td>...</td>\n",
       "      <td>...</td>\n",
       "      <td>...</td>\n",
       "      <td>...</td>\n",
       "      <td>...</td>\n",
       "      <td>...</td>\n",
       "      <td>...</td>\n",
       "      <td>...</td>\n",
       "      <td>...</td>\n",
       "      <td>...</td>\n",
       "      <td>...</td>\n",
       "      <td>...</td>\n",
       "      <td>...</td>\n",
       "      <td>...</td>\n",
       "      <td>...</td>\n",
       "      <td>...</td>\n",
       "      <td>...</td>\n",
       "    </tr>\n",
       "    <tr>\n",
       "      <th>2021-12-30 15:35:00</th>\n",
       "      <td>-0.002453</td>\n",
       "      <td>0.002610</td>\n",
       "      <td>-0.002876</td>\n",
       "      <td>-0.000147</td>\n",
       "      <td>-0.014308</td>\n",
       "      <td>-0.000834</td>\n",
       "      <td>0.000000</td>\n",
       "      <td>0.000204</td>\n",
       "      <td>0.000370</td>\n",
       "      <td>0.002895</td>\n",
       "      <td>...</td>\n",
       "      <td>-0.000090</td>\n",
       "      <td>0.000169</td>\n",
       "      <td>-0.000683</td>\n",
       "      <td>-0.000149</td>\n",
       "      <td>0.000361</td>\n",
       "      <td>-0.000069</td>\n",
       "      <td>0.000345</td>\n",
       "      <td>-0.000262</td>\n",
       "      <td>-0.000790</td>\n",
       "      <td>0.000439</td>\n",
       "    </tr>\n",
       "    <tr>\n",
       "      <th>2021-12-30 15:40:00</th>\n",
       "      <td>-0.002985</td>\n",
       "      <td>0.002203</td>\n",
       "      <td>-0.001441</td>\n",
       "      <td>-0.000744</td>\n",
       "      <td>-0.000484</td>\n",
       "      <td>-0.000996</td>\n",
       "      <td>-0.000676</td>\n",
       "      <td>-0.000508</td>\n",
       "      <td>0.000711</td>\n",
       "      <td>0.001578</td>\n",
       "      <td>...</td>\n",
       "      <td>-0.000449</td>\n",
       "      <td>-0.000505</td>\n",
       "      <td>-0.000890</td>\n",
       "      <td>0.000000</td>\n",
       "      <td>-0.000539</td>\n",
       "      <td>-0.000493</td>\n",
       "      <td>-0.000434</td>\n",
       "      <td>-0.000786</td>\n",
       "      <td>0.001286</td>\n",
       "      <td>-0.000657</td>\n",
       "    </tr>\n",
       "    <tr>\n",
       "      <th>2021-12-30 15:45:00</th>\n",
       "      <td>-0.001527</td>\n",
       "      <td>0.002267</td>\n",
       "      <td>-0.002593</td>\n",
       "      <td>-0.000430</td>\n",
       "      <td>0.001829</td>\n",
       "      <td>-0.000461</td>\n",
       "      <td>-0.001486</td>\n",
       "      <td>-0.000713</td>\n",
       "      <td>0.000400</td>\n",
       "      <td>0.001486</td>\n",
       "      <td>...</td>\n",
       "      <td>-0.000628</td>\n",
       "      <td>-0.000840</td>\n",
       "      <td>-0.000614</td>\n",
       "      <td>-0.000302</td>\n",
       "      <td>-0.000270</td>\n",
       "      <td>-0.000422</td>\n",
       "      <td>-0.000356</td>\n",
       "      <td>-0.000524</td>\n",
       "      <td>0.000296</td>\n",
       "      <td>-0.000073</td>\n",
       "    </tr>\n",
       "    <tr>\n",
       "      <th>2021-12-30 15:50:00</th>\n",
       "      <td>-0.003410</td>\n",
       "      <td>0.003350</td>\n",
       "      <td>-0.006380</td>\n",
       "      <td>-0.000703</td>\n",
       "      <td>0.003487</td>\n",
       "      <td>-0.001160</td>\n",
       "      <td>0.000133</td>\n",
       "      <td>0.000204</td>\n",
       "      <td>0.001102</td>\n",
       "      <td>0.005935</td>\n",
       "      <td>...</td>\n",
       "      <td>-0.000090</td>\n",
       "      <td>0.000000</td>\n",
       "      <td>-0.001236</td>\n",
       "      <td>-0.000302</td>\n",
       "      <td>-0.000808</td>\n",
       "      <td>-0.000141</td>\n",
       "      <td>-0.000625</td>\n",
       "      <td>-0.000613</td>\n",
       "      <td>0.000395</td>\n",
       "      <td>-0.000584</td>\n",
       "    </tr>\n",
       "    <tr>\n",
       "      <th>2021-12-30 15:55:00</th>\n",
       "      <td>-0.000294</td>\n",
       "      <td>-0.000035</td>\n",
       "      <td>-0.003932</td>\n",
       "      <td>-0.000514</td>\n",
       "      <td>-0.001602</td>\n",
       "      <td>-0.000025</td>\n",
       "      <td>0.001355</td>\n",
       "      <td>-0.000102</td>\n",
       "      <td>0.000739</td>\n",
       "      <td>0.008849</td>\n",
       "      <td>...</td>\n",
       "      <td>0.000181</td>\n",
       "      <td>0.000336</td>\n",
       "      <td>-0.000549</td>\n",
       "      <td>-0.000903</td>\n",
       "      <td>-0.000451</td>\n",
       "      <td>-0.000423</td>\n",
       "      <td>-0.000625</td>\n",
       "      <td>-0.000874</td>\n",
       "      <td>0.000592</td>\n",
       "      <td>-0.000584</td>\n",
       "    </tr>\n",
       "  </tbody>\n",
       "</table>\n",
       "<p>78239 rows × 71 columns</p>\n",
       "</div>\n",
       "      <button class=\"colab-df-convert\" onclick=\"convertToInteractive('df-53d8f848-d0cd-42a8-a0b8-1772bb1e639d')\"\n",
       "              title=\"Convert this dataframe to an interactive table.\"\n",
       "              style=\"display:none;\">\n",
       "        \n",
       "  <svg xmlns=\"http://www.w3.org/2000/svg\" height=\"24px\"viewBox=\"0 0 24 24\"\n",
       "       width=\"24px\">\n",
       "    <path d=\"M0 0h24v24H0V0z\" fill=\"none\"/>\n",
       "    <path d=\"M18.56 5.44l.94 2.06.94-2.06 2.06-.94-2.06-.94-.94-2.06-.94 2.06-2.06.94zm-11 1L8.5 8.5l.94-2.06 2.06-.94-2.06-.94L8.5 2.5l-.94 2.06-2.06.94zm10 10l.94 2.06.94-2.06 2.06-.94-2.06-.94-.94-2.06-.94 2.06-2.06.94z\"/><path d=\"M17.41 7.96l-1.37-1.37c-.4-.4-.92-.59-1.43-.59-.52 0-1.04.2-1.43.59L10.3 9.45l-7.72 7.72c-.78.78-.78 2.05 0 2.83L4 21.41c.39.39.9.59 1.41.59.51 0 1.02-.2 1.41-.59l7.78-7.78 2.81-2.81c.8-.78.8-2.07 0-2.86zM5.41 20L4 18.59l7.72-7.72 1.47 1.35L5.41 20z\"/>\n",
       "  </svg>\n",
       "      </button>\n",
       "      \n",
       "  <style>\n",
       "    .colab-df-container {\n",
       "      display:flex;\n",
       "      flex-wrap:wrap;\n",
       "      gap: 12px;\n",
       "    }\n",
       "\n",
       "    .colab-df-convert {\n",
       "      background-color: #E8F0FE;\n",
       "      border: none;\n",
       "      border-radius: 50%;\n",
       "      cursor: pointer;\n",
       "      display: none;\n",
       "      fill: #1967D2;\n",
       "      height: 32px;\n",
       "      padding: 0 0 0 0;\n",
       "      width: 32px;\n",
       "    }\n",
       "\n",
       "    .colab-df-convert:hover {\n",
       "      background-color: #E2EBFA;\n",
       "      box-shadow: 0px 1px 2px rgba(60, 64, 67, 0.3), 0px 1px 3px 1px rgba(60, 64, 67, 0.15);\n",
       "      fill: #174EA6;\n",
       "    }\n",
       "\n",
       "    [theme=dark] .colab-df-convert {\n",
       "      background-color: #3B4455;\n",
       "      fill: #D2E3FC;\n",
       "    }\n",
       "\n",
       "    [theme=dark] .colab-df-convert:hover {\n",
       "      background-color: #434B5C;\n",
       "      box-shadow: 0px 1px 3px 1px rgba(0, 0, 0, 0.15);\n",
       "      filter: drop-shadow(0px 1px 2px rgba(0, 0, 0, 0.3));\n",
       "      fill: #FFFFFF;\n",
       "    }\n",
       "  </style>\n",
       "\n",
       "      <script>\n",
       "        const buttonEl =\n",
       "          document.querySelector('#df-53d8f848-d0cd-42a8-a0b8-1772bb1e639d button.colab-df-convert');\n",
       "        buttonEl.style.display =\n",
       "          google.colab.kernel.accessAllowed ? 'block' : 'none';\n",
       "\n",
       "        async function convertToInteractive(key) {\n",
       "          const element = document.querySelector('#df-53d8f848-d0cd-42a8-a0b8-1772bb1e639d');\n",
       "          const dataTable =\n",
       "            await google.colab.kernel.invokeFunction('convertToInteractive',\n",
       "                                                     [key], {});\n",
       "          if (!dataTable) return;\n",
       "\n",
       "          const docLinkHtml = 'Like what you see? Visit the ' +\n",
       "            '<a target=\"_blank\" href=https://colab.research.google.com/notebooks/data_table.ipynb>data table notebook</a>'\n",
       "            + ' to learn more about interactive tables.';\n",
       "          element.innerHTML = '';\n",
       "          dataTable['output_type'] = 'display_data';\n",
       "          await google.colab.output.renderOutput(dataTable, element);\n",
       "          const docLink = document.createElement('div');\n",
       "          docLink.innerHTML = docLinkHtml;\n",
       "          element.appendChild(docLink);\n",
       "        }\n",
       "      </script>\n",
       "    </div>\n",
       "  </div>\n",
       "  "
      ],
      "text/plain": [
       "                         TQQQ      SQQQ      SOXL       SPY      LABU  \\\n",
       "Date                                                                    \n",
       "2018-01-02 09:35:00  0.008349 -0.009139  0.012075  0.001209  0.015483   \n",
       "2018-01-02 09:40:00  0.005594 -0.005478  0.007141  0.000099  0.014310   \n",
       "2018-01-02 09:45:00  0.003726 -0.004047  0.004821 -0.000522 -0.003498   \n",
       "2018-01-02 09:50:00  0.001263 -0.001195  0.001506  0.000168 -0.002154   \n",
       "2018-01-02 09:55:00  0.004173 -0.005025  0.003104  0.000953  0.000539   \n",
       "...                       ...       ...       ...       ...       ...   \n",
       "2021-12-30 15:35:00 -0.002453  0.002610 -0.002876 -0.000147 -0.014308   \n",
       "2021-12-30 15:40:00 -0.002985  0.002203 -0.001441 -0.000744 -0.000484   \n",
       "2021-12-30 15:45:00 -0.001527  0.002267 -0.002593 -0.000430  0.001829   \n",
       "2021-12-30 15:50:00 -0.003410  0.003350 -0.006380 -0.000703  0.003487   \n",
       "2021-12-30 15:55:00 -0.000294 -0.000035 -0.003932 -0.000514 -0.001602   \n",
       "\n",
       "                          QQQ       FXI       EEM        SH      SOXS  ...  \\\n",
       "Date                                                                   ...   \n",
       "2018-01-02 09:35:00  0.002934  0.001158  0.001779 -0.001161 -0.008605  ...   \n",
       "2018-01-02 09:40:00  0.001732 -0.000314 -0.000417  0.000000 -0.011779  ...   \n",
       "2018-01-02 09:45:00  0.001402 -0.000213 -0.000105  0.000497 -0.003971  ...   \n",
       "2018-01-02 09:50:00  0.000445  0.000000 -0.000105 -0.000332 -0.001625  ...   \n",
       "2018-01-02 09:55:00  0.001335  0.000000 -0.000210 -0.000998 -0.003211  ...   \n",
       "...                       ...       ...       ...       ...       ...  ...   \n",
       "2021-12-30 15:35:00 -0.000834  0.000000  0.000204  0.000370  0.002895  ...   \n",
       "2021-12-30 15:40:00 -0.000996 -0.000676 -0.000508  0.000711  0.001578  ...   \n",
       "2021-12-30 15:45:00 -0.000461 -0.001486 -0.000713  0.000400  0.001486  ...   \n",
       "2021-12-30 15:50:00 -0.001160  0.000133  0.000204  0.001102  0.005935  ...   \n",
       "2021-12-30 15:55:00 -0.000025  0.001355 -0.000102  0.000739  0.008849  ...   \n",
       "\n",
       "                         ACWX      SCHE      SPYG       EWU      DGRO  \\\n",
       "Date                                                                    \n",
       "2018-01-02 09:35:00 -0.000197  0.000956  0.001207 -0.000280  0.000026   \n",
       "2018-01-02 09:40:00  0.000794 -0.000332  0.001512 -0.000280  0.000032   \n",
       "2018-01-02 09:45:00 -0.000197 -0.000020  0.000029 -0.000694 -0.001434   \n",
       "2018-01-02 09:50:00  0.000002 -0.000178  0.000271  0.000000  0.000097   \n",
       "2018-01-02 09:55:00 -0.000002 -0.000085 -0.000029  0.000138  0.001112   \n",
       "...                       ...       ...       ...       ...       ...   \n",
       "2021-12-30 15:35:00 -0.000090  0.000169 -0.000683 -0.000149  0.000361   \n",
       "2021-12-30 15:40:00 -0.000449 -0.000505 -0.000890  0.000000 -0.000539   \n",
       "2021-12-30 15:45:00 -0.000628 -0.000840 -0.000614 -0.000302 -0.000270   \n",
       "2021-12-30 15:50:00 -0.000090  0.000000 -0.001236 -0.000302 -0.000808   \n",
       "2021-12-30 15:55:00  0.000181  0.000336 -0.000549 -0.000903 -0.000451   \n",
       "\n",
       "                         IXUS       VYM      SCHX       EWW      SPLV  \n",
       "Date                                                                   \n",
       "2018-01-02 09:35:00  0.001215  0.000378  0.001101 -0.003061 -0.000627  \n",
       "2018-01-02 09:40:00  0.000362 -0.000378  0.000287 -0.002466 -0.000660  \n",
       "2018-01-02 09:45:00 -0.000631 -0.000864 -0.000471  0.003128 -0.001858  \n",
       "2018-01-02 09:50:00  0.000159 -0.000011 -0.000567 -0.001208 -0.001053  \n",
       "2018-01-02 09:55:00  0.000366  0.000993  0.001367  0.000101  0.001033  \n",
       "...                       ...       ...       ...       ...       ...  \n",
       "2021-12-30 15:35:00 -0.000069  0.000345 -0.000262 -0.000790  0.000439  \n",
       "2021-12-30 15:40:00 -0.000493 -0.000434 -0.000786  0.001286 -0.000657  \n",
       "2021-12-30 15:45:00 -0.000422 -0.000356 -0.000524  0.000296 -0.000073  \n",
       "2021-12-30 15:50:00 -0.000141 -0.000625 -0.000613  0.000395 -0.000584  \n",
       "2021-12-30 15:55:00 -0.000423 -0.000625 -0.000874  0.000592 -0.000584  \n",
       "\n",
       "[78239 rows x 71 columns]"
      ]
     },
     "execution_count": 25,
     "metadata": {},
     "output_type": "execute_result"
    }
   ],
   "source": [
    "df_returns = data_processor.get_return_series(df_prices_train)\n",
    "df_returns"
   ]
  },
  {
   "cell_type": "code",
   "execution_count": 26,
   "metadata": {
    "colab": {
     "base_uri": "https://localhost:8080/"
    },
    "id": "8y4IbQn0npAZ",
    "outputId": "344438d2-3e90-4ace-9d3d-e6462eb37fbd"
   },
   "outputs": [
    {
     "name": "stdout",
     "output_type": "stream",
     "text": [
      "Total number of possible pairs:  2485.0\n"
     ]
    }
   ],
   "source": [
    "print('Total number of possible pairs: ', len(df_returns.columns)*(len(df_returns.columns)-1)/2)"
   ]
  },
  {
   "cell_type": "markdown",
   "metadata": {
    "id": "ppBsLNG7mQti"
   },
   "source": [
    "## 2. Apply PCA"
   ]
  },
  {
   "cell_type": "code",
   "execution_count": 27,
   "metadata": {
    "colab": {
     "base_uri": "https://localhost:8080/"
    },
    "id": "hyh9xlGPq5Dn",
    "outputId": "e7a7f2c9-23ad-4b28-f5c2-a804152ad44b"
   },
   "outputs": [
    {
     "name": "stdout",
     "output_type": "stream",
     "text": [
      "[4.74387475e-04 1.44648163e-04 4.87129856e-05 3.02658955e-05\n",
      " 1.62288727e-05]\n"
     ]
    }
   ],
   "source": [
    "N_PRIN_COMPONENTS = 5\n",
    "X, explained_variance = series_analyser.apply_PCA(N_PRIN_COMPONENTS, df_returns, \n",
    "                                                  random_state=0)#12)\n",
    "print(explained_variance)"
   ]
  },
  {
   "cell_type": "markdown",
   "metadata": {
    "id": "HFKXW0wTmkue"
   },
   "source": [
    "## 3. Unsupervised clustering"
   ]
  },
  {
   "cell_type": "code",
   "execution_count": 36,
   "metadata": {
    "id": "j-4qb0Nkmnuj"
   },
   "outputs": [],
   "source": [
    "def apply_clustering(X, df_returns, method='optics', eps=5, min_samples=3, n_clusters_hierarchical=12):\n",
    "  if method.lower() == 'optics':\n",
    "    clustered_series_all, clustered_series, counts, clf = series_analyser.apply_OPTICS(X, df_returns, min_samples=min_samples, max_eps=eps)\n",
    "  elif method.lower() == 'dbscan':\n",
    "    clustered_series_all, clustered_series, counts, clf = series_analyser.apply_DBSCAN(eps=eps, min_samples=min_samples, X=X, df_returns=df_returns)\n",
    "  else:\n",
    "    clustered_series_all, clustered_series, counts, clf = series_analyser.apply_hierarchical_clustering(X, df_returns, n_clusters=n_clusters_hierarchical)\n",
    "  return clustered_series_all, clustered_series, counts, clf\n",
    "\n",
    "def cluster_size(counts, title):\n",
    "    plt.figure()\n",
    "    plt.barh(counts.index+1, counts.values)\n",
    "    plt.title(title)\n",
    "    plt.yticks(np.arange(1, len(counts)+1, 1))\n",
    "    plt.xlabel('ETFs within cluster')\n",
    "    plt.ylabel('Cluster Id');"
   ]
  },
  {
   "cell_type": "markdown",
   "metadata": {
    "id": "wHaczlgVn7oC"
   },
   "source": [
    "### 3.1 Generate pairs from DBSCAN clusters"
   ]
  },
  {
   "cell_type": "code",
   "execution_count": 38,
   "metadata": {
    "colab": {
     "base_uri": "https://localhost:8080/",
     "height": 347
    },
    "id": "Ieeg8YUzruPo",
    "outputId": "369e11cc-3f33-4043-c7b3-1b15075aed86"
   },
   "outputs": [
    {
     "name": "stdout",
     "output_type": "stream",
     "text": [
      "DBSCAN Clusters:\n",
      "Clusters discovered: 4\n",
      "Pairs to evaluate: 117\n"
     ]
    },
    {
     "data": {
      "image/png": "[encoded data removed]",
      "text/plain": [
       "<Figure size 432x288 with 1 Axes>"
      ]
     },
     "metadata": {},
     "output_type": "display_data"
    }
   ],
   "source": [
    "print(\"DBSCAN Clusters:\")\n",
    "dbscan_clustered_series_all, dbscan_clustered_series, dbscan_counts, dbscan_clf = apply_clustering(X=X,\n",
    "                                                                                                   df_returns=df_returns,\n",
    "                                                                                                   method='dbscan',\n",
    "                                                                                                   eps=0.15,\n",
    "                                                                                                   min_samples=3)\n",
    "cluster_size(dbscan_counts, 'DBSCAN Clusters')"
   ]
  },
  {
   "cell_type": "markdown",
   "metadata": {
    "id": "96TwEG3ko-Cx"
   },
   "source": [
    "### 3.2 Generate pairs from OPTICS clusters"
   ]
  },
  {
   "cell_type": "code",
   "execution_count": 39,
   "metadata": {
    "colab": {
     "base_uri": "https://localhost:8080/",
     "height": 364
    },
    "id": "AcB3s084rym6",
    "outputId": "8f1b1178-735c-4bd1-8e2c-4c775cad2325"
   },
   "outputs": [
    {
     "name": "stdout",
     "output_type": "stream",
     "text": [
      "OPTICS Clusters:\n",
      "OPTICS(max_eps=5, metric='euclidean', min_samples=3)\n",
      "Clusters discovered: 7\n",
      "Pairs to evaluate: 52\n"
     ]
    },
    {
     "data": {
      "image/png": "[encoded data removed]",
      "text/plain": [
       "<Figure size 432x288 with 1 Axes>"
      ]
     },
     "metadata": {},
     "output_type": "display_data"
    }
   ],
   "source": [
    "print(\"OPTICS Clusters:\")\n",
    "optics_clustered_series_all, optics_clustered_series, optics_counts, optics_clf = apply_clustering(X=X,\n",
    "                                                                                                   df_returns=df_returns,\n",
    "                                                                                                   min_samples=3,\n",
    "                                                                                                   eps=5)\n",
    "cluster_size(optics_counts, 'OPTICS Clusters')"
   ]
  },
  {
   "cell_type": "markdown",
   "metadata": {
    "id": "JcxkJVngpWp9"
   },
   "source": [
    "### 3.3 Generate pairs from Hierarchical clusters"
   ]
  },
  {
   "cell_type": "code",
   "execution_count": 41,
   "metadata": {
    "colab": {
     "base_uri": "https://localhost:8080/",
     "height": 347
    },
    "id": "YIPsi65v-Rsk",
    "outputId": "ef384e72-3b2e-4011-e209-0af3aa9e9c69"
   },
   "outputs": [
    {
     "name": "stdout",
     "output_type": "stream",
     "text": [
      "Hierarchical Clusters:\n",
      "Clusters discovered: 11\n",
      "Pairs to evaluate: 955\n"
     ]
    },
    {
     "data": {
      "image/png": "[encoded data removed]",
      "text/plain": [
       "<Figure size 432x288 with 1 Axes>"
      ]
     },
     "metadata": {},
     "output_type": "display_data"
    }
   ],
   "source": [
    "print(\"Hierarchical Clusters:\")\n",
    "hier_clustered_series_all, hier_clustered_series, hier_counts, hier_clf = apply_clustering(X=X,\n",
    "                                                                                           df_returns=df_returns,\n",
    "                                                                                           method='hierarchical',\n",
    "                                                                                           n_clusters_hierarchical=11)\n",
    "cluster_size(hier_counts, 'Hierarchical Clusters')"
   ]
  },
  {
   "cell_type": "markdown",
   "metadata": {
    "id": "Tw4ru6c1tX1O"
   },
   "source": [
    "# Pair Selection\n",
    "\n",
    "Now that the clusters have been identified, we find cointegrated pairs within each of the clusters subject to some criteria such as:\n",
    "- p-value threshold\n",
    "- a minimum number of zero crossings\n",
    "- minimum and maximum half life\n",
    "- subsample\n",
    " - if the subsample is not specified, then the code will take the whole data into consideration to identify the pairs, resulting in a significantly longer runtime\n",
    " - at the same time if the subsample is too small, it may not be representative of the whole population"
   ]
  },
  {
   "cell_type": "markdown",
   "metadata": {
    "id": "Yaz4hJJc36lt"
   },
   "source": [
    "## OPTICS Pairs Generation"
   ]
  },
  {
   "cell_type": "code",
   "execution_count": 44,
   "metadata": {
    "colab": {
     "base_uri": "https://localhost:8080/"
    },
    "id": "s6kzy2gKwJUJ",
    "outputId": "f8e9f2e1-4886-4429-c363-80ae9c5cc93d"
   },
   "outputs": [
    {
     "name": "stdout",
     "output_type": "stream",
     "text": [
      "Cluster 7/7Found 17 pairs\n",
      "The pairs contain 17 unique tickers\n",
      "Pairs Selection failed stage:  {'cointegration': 25, 'None': 17, 'half_life': 4, 'hurst_exponent': 6}\n"
     ]
    }
   ],
   "source": [
    "# The half-life of mean-reversion is an indicator of how long it takes for a time series to mean-revert.\n",
    "# We propose filtering out pairs for which the half-life takes extreme values: less than one day or more than one year.\n",
    "print(\"OPTICS Pairs:\")\n",
    "\n",
    "subsample = 2500\n",
    "min_half_life = 78 # number of points in a day\n",
    "max_half_life = 20000 #~number of points in a year: 78*252\n",
    "min_zero_crosings = 12\n",
    "\n",
    "pairs_unsupervised_optics, unique_tickers_optics = series_analyser.get_candidate_pairs(clustered_series=optics_clustered_series,\n",
    "                                                                                       pricing_df_train=df_prices_train,\n",
    "                                                                                       pricing_df_test=df_prices_test,\n",
    "                                                                                       min_half_life=min_half_life,\n",
    "                                                                                       max_half_life=max_half_life,\n",
    "                                                                                       min_zero_crosings=min_zero_crosings,\n",
    "                                                                                       p_value_threshold=0.05,\n",
    "                                                                                       hurst_threshold=0.5)\n",
    "\n",
    "# Save the pairs for trading\n",
    "with open('./data/pairs_optics.pickle', 'wb') as f:\n",
    "    pickle.dump(pairs_unsupervised_optics, f)"
   ]
  },
  {
   "cell_type": "markdown",
   "metadata": {
    "id": "nx6ZAWujwJxG"
   },
   "source": [
    "## Hierarchical Pairs Generation"
   ]
  },
  {
   "cell_type": "code",
   "execution_count": null,
   "metadata": {
    "colab": {
     "base_uri": "https://localhost:8080/"
    },
    "id": "BbNsUNj_3wbz",
    "outputId": "63525021-75a7-40fa-c8d8-95e0f224d316"
   },
   "outputs": [
    {
     "name": "stdout",
     "output_type": "stream",
     "text": [
      "Cluster 12/12Found 85 pairs\n",
      "The pairs contain 50 unique tickers\n",
      "Pairs Selection failed stage:  {'cointegration': 841, 'hurst_exponent': 23, 'half_life': 4, 'None': 83}\n"
     ]
    }
   ],
   "source": [
    "# The half-life of mean-reversion is an indicator of how long it takes for a time series to mean-revert.\n",
    "# We propose filtering out pairs for which the half-life takes extreme values: less than one day or more than one year.\n",
    "print(\"Hierarchical Pairs:\")\n",
    "\n",
    "subsample = 2500\n",
    "min_half_life = 78 # number of points in a day\n",
    "max_half_life = 20000 #~number of points in a year: 78*252\n",
    "min_zero_crosings = 12\n",
    "\n",
    "pairs_unsupervised_hier, unique_tickers_hier = series_analyser.get_candidate_pairs(clustered_series=hier_clustered_series,\n",
    "                                                                                   pricing_df_train=df_prices_train,\n",
    "                                                                                   pricing_df_test=df_prices_test,\n",
    "                                                                                   min_half_life=min_half_life,\n",
    "                                                                                   max_half_life=max_half_life,\n",
    "                                                                                   min_zero_crosings=12,\n",
    "                                                                                   p_value_threshold=0.05,\n",
    "                                                                                   hurst_threshold=0.5)\n",
    "\n",
    "# Save the pairs for trading\n",
    "with open('./data/pairs_hierarchical.pickle', 'wb') as f:\n",
    "    pickle.dump(pairs_unsupervised_hier, f)"
   ]
  }
 ],
 "metadata": {
  "colab": {
   "provenance": [],
   "toc_visible": true
  },
  "kernelspec": {
   "display_name": "Python 3",
   "language": "python",
   "name": "python3"
  },
  "language_info": {
   "codemirror_mode": {
    "name": "ipython",
    "version": 3
   },
   "file_extension": ".py",
   "mimetype": "text/x-python",
   "name": "python",
   "nbconvert_exporter": "python",
   "pygments_lexer": "ipython3",
   "version": "3.8.16"
  },
  "vscode": {
   "interpreter": {
    "hash": "49cb93f377a7abe7414b7b0f21fb3017538004a126cf690fb524202736b7fb92"
   }
  }
 },
 "nbformat": 4,
 "nbformat_minor": 1
}
